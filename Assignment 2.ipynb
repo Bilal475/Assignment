{
 "cells": [
  {
   "cell_type": "code",
   "execution_count": 9,
   "metadata": {},
   "outputs": [
    {
     "name": "stdout",
     "output_type": "stream",
     "text": [
      "Enter the number to check this is even or add 23\n",
      "The number is odd\n"
     ]
    }
   ],
   "source": [
    "#Task no 2\n",
    "a=int(input(\"Enter the number to check this is even or add \"))\n",
    "if a%2==0:\n",
    "    print(\"The number is even\")\n",
    "else:\n",
    "    print(\"The number is odd\")"
   ]
  },
  {
   "cell_type": "code",
   "execution_count": 11,
   "metadata": {},
   "outputs": [
    {
     "name": "stdout",
     "output_type": "stream",
     "text": [
      "Enter the marks of English subject out of 100=69\n",
      "Enter the marks of mathematics subject out of 100=86\n",
      "Enter the marks of Pakistan subject out of 50=42\n",
      "Enter the marks of Urdu subject out of 100=77\n",
      "Enter the marks of Physics subject out of 100=92\n",
      "The total marks of all subject is=366\n",
      "The percentage is=81.33333333333333\n",
      "The grade is A+\n"
     ]
    }
   ],
   "source": [
    "#task no 1\n",
    "a=int(input(\"Enter the marks of English subject out of 100=\"))\n",
    "b=int(input(\"Enter the marks of mathematics subject out of 100=\"))\n",
    "c=int(input(\"Enter the marks of Pakistan subject out of 50=\"))\n",
    "d=int(input(\"Enter the marks of Urdu subject out of 100=\"))\n",
    "e=int(input(\"Enter the marks of Physics subject out of 100=\"))\n",
    "total=a+b+c+d+e\n",
    "print(\"The total marks of all subject is=\"+str(total))\n",
    "per=total*100/450\n",
    "print(\"The percentage is=\"+str(per))\n",
    "if per>=80 and per<=100:\n",
    "    print(\"The grade is A+\")\n",
    "elif per>=70 and per<80:\n",
    "    print(\"The grade is A\")\n",
    "elif per>=60 and per<70:\n",
    "    print(\"The grade is B\")\n",
    "elif per>=50 and per<60:\n",
    "    print(\"The grade is C\")\n",
    "elif per>=40 and per<50:\n",
    "    print(\"The grade is D\")\n",
    "elif per>=33 and per<40:\n",
    "    print(\"The grade is E\")\n",
    "elif per>=0 and per<33:\n",
    "    print(\"The grade is F\")"
   ]
  },
  {
   "cell_type": "code",
   "execution_count": 7,
   "metadata": {},
   "outputs": [
    {
     "name": "stdout",
     "output_type": "stream",
     "text": [
      "The array is=['Bilal', 'khalid', 'True', 89, 'False', 23]\n",
      "The length of array is=6\n"
     ]
    }
   ],
   "source": [
    "#Task no 3\n",
    "arr=[\"Bilal\",\"khalid\",\"True\",89,\"False\",23]\n",
    "print(\"The array is=\"+str(arr))\n",
    "print(\"The length of array is=\"+str(len(arr)))"
   ]
  },
  {
   "cell_type": "code",
   "execution_count": 14,
   "metadata": {},
   "outputs": [
    {
     "name": "stdout",
     "output_type": "stream",
     "text": [
      "The sum of all the number in array is=45\n"
     ]
    }
   ],
   "source": [
    "#Task no 4\n",
    "array=[10,9,8,7,6,5]\n",
    "print(\"The sum of all the number in array is=\"+str(sum(array)))"
   ]
  },
  {
   "cell_type": "code",
   "execution_count": 25,
   "metadata": {},
   "outputs": [
    {
     "name": "stdout",
     "output_type": "stream",
     "text": [
      "The largest number in array is=10\n"
     ]
    }
   ],
   "source": [
    "#Task no 5\n",
    "array=[10,9,8,7,6,5]\n",
    "print(\"The largest number in array is=\"+str(max(array)))"
   ]
  },
  {
   "cell_type": "code",
   "execution_count": 23,
   "metadata": {},
   "outputs": [
    {
     "name": "stdout",
     "output_type": "stream",
     "text": [
      "The element which is less than 5 in array is=\n",
      "1\n",
      "1\n",
      "2\n",
      "3\n"
     ]
    }
   ],
   "source": [
    "#Task no 6\n",
    "arr = [1, 1, 2, 3, 5, 8, 13, 21, 34, 55, 89]\n",
    "print(\"The element which is less than 5 in array is=\")\n",
    "for i in arr:\n",
    "    if i < 5:\n",
    "        print(i)"
   ]
  },
  {
   "cell_type": "code",
   "execution_count": null,
   "metadata": {},
   "outputs": [],
   "source": []
  }
 ],
 "metadata": {
  "kernelspec": {
   "display_name": "Python 3",
   "language": "python",
   "name": "python3"
  },
  "language_info": {
   "codemirror_mode": {
    "name": "ipython",
    "version": 3
   },
   "file_extension": ".py",
   "mimetype": "text/x-python",
   "name": "python",
   "nbconvert_exporter": "python",
   "pygments_lexer": "ipython3",
   "version": "3.7.3"
  }
 },
 "nbformat": 4,
 "nbformat_minor": 2
}
