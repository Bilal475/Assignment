{
 "cells": [
  {
   "cell_type": "code",
   "execution_count": 41,
   "metadata": {},
   "outputs": [
    {
     "name": "stdout",
     "output_type": "stream",
     "text": [
      "Enter the number to find the factorial of that number ,number must be positive: 6\n",
      "720\n"
     ]
    }
   ],
   "source": [
    "#task 1\n",
    "def fact(n):\n",
    "    if n == 0:\n",
    "        return 1\n",
    "    else:\n",
    "        return n * fact(n-1)\n",
    "n=int(input(\"Enter the number to find the factorial of that number ,number must be positive: \"))\n",
    "print(fact(n))"
   ]
  },
  {
   "cell_type": "code",
   "execution_count": 42,
   "metadata": {},
   "outputs": [
    {
     "name": "stdout",
     "output_type": "stream",
     "text": [
      "Original String :  Pakistan Zindabad\n",
      "No. of Upper case characters :  2\n",
      "No. of Lower case Characters :  14\n"
     ]
    }
   ],
   "source": [
    "#task 2\n",
    "def string_test(s):\n",
    "    d={\n",
    "        \"UPPER_CASE\":0, \n",
    "       \"LOWER_CASE\":0\n",
    "      }\n",
    "    for c in s:\n",
    "        if c.isupper():\n",
    "            d[\"UPPER_CASE\"]+=1\n",
    "        elif c.islower():\n",
    "            d[\"LOWER_CASE\"]+=1\n",
    "        else:\n",
    "            pass\n",
    "    print (\"Original String : \", s)\n",
    "    print (\"No. of Upper case characters : \", d[\"UPPER_CASE\"])\n",
    "    print (\"No. of Lower case Characters : \", d[\"LOWER_CASE\"])\n",
    "\n",
    "string_test('Pakistan Zindabad')"
   ]
  },
  {
   "cell_type": "code",
   "execution_count": 43,
   "metadata": {},
   "outputs": [
    {
     "name": "stdout",
     "output_type": "stream",
     "text": [
      "2\n",
      "4\n",
      "6\n"
     ]
    }
   ],
   "source": [
    "#task 3\n",
    "ls=[1,2,3,4,5,6,7]\n",
    "def check():\n",
    "    for a in ls:\n",
    "        if a%2==0:\n",
    "            print(a)\n",
    "\n",
    "check()"
   ]
  },
  {
   "cell_type": "code",
   "execution_count": 44,
   "metadata": {},
   "outputs": [
    {
     "name": "stdout",
     "output_type": "stream",
     "text": [
      "4 is not a prime number\n"
     ]
    }
   ],
   "source": [
    "#task 5\n",
    "def test_prime(n):\n",
    "    if n>1:\n",
    "        for x in range(2,n):\n",
    "            if(n % x==0):\n",
    "                print(n,\"is not a prime number\")\n",
    "                break\n",
    "            else:\n",
    "                print(n,\"is a prime number\")             \n",
    "test_prime(4)"
   ]
  },
  {
   "cell_type": "code",
   "execution_count": 46,
   "metadata": {},
   "outputs": [
    {
     "name": "stdout",
     "output_type": "stream",
     "text": [
      "The things the user bought from the market is \n",
      "Milk\n",
      "Egg\n",
      "Bread\n",
      "Rice\n",
      "Wheat\n",
      "yogurt\n"
     ]
    }
   ],
   "source": [
    "#task 6\n",
    "def cust(*p):\n",
    "    print(\"The things the user bought from the market is \")\n",
    "    for a in p:\n",
    "        print(a)\n",
    "\n",
    "cust(\"Milk\",\"Egg\",\"Bread\",\"Rice\",\"Wheat\",\"yogurt\")"
   ]
  },
  {
   "cell_type": "code",
   "execution_count": 47,
   "metadata": {},
   "outputs": [
    {
     "name": "stdout",
     "output_type": "stream",
     "text": [
      "String is palindrome\n"
     ]
    }
   ],
   "source": [
    "#task 4\n",
    "def reverse(s): \n",
    "    return s[::-1] \n",
    "def isPalindrome(s):  \n",
    "    rev = reverse(s) \n",
    "    if (s == rev): \n",
    "        return True\n",
    "    return False\n",
    "s = \"noon\"\n",
    "ans = isPalindrome(s) \n",
    "  \n",
    "if ans == 1: \n",
    "    print(\"String is palindrome\") \n",
    "else: \n",
    "    print(\"String is not palindrome\")"
   ]
  },
  {
   "cell_type": "code",
   "execution_count": null,
   "metadata": {},
   "outputs": [],
   "source": []
  }
 ],
 "metadata": {
  "kernelspec": {
   "display_name": "Python 3",
   "language": "python",
   "name": "python3"
  },
  "language_info": {
   "codemirror_mode": {
    "name": "ipython",
    "version": 3
   },
   "file_extension": ".py",
   "mimetype": "text/x-python",
   "name": "python",
   "nbconvert_exporter": "python",
   "pygments_lexer": "ipython3",
   "version": "3.7.3"
  }
 },
 "nbformat": 4,
 "nbformat_minor": 2
}
