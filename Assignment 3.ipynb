{
 "cells": [
  {
   "cell_type": "code",
   "execution_count": 2,
   "metadata": {},
   "outputs": [
    {
     "name": "stdout",
     "output_type": "stream",
     "text": [
      "Enter first value=2\n",
      "Enter second value=3\n",
      "Enter the operator=**\n",
      "8\n"
     ]
    }
   ],
   "source": [
    "#task 1\n",
    "val1 =int(input(\"Enter first value=\"))\n",
    "val2=int(input(\"Enter second value=\"))\n",
    "op=input(\"Enter the operator=\")\n",
    "if op==\"+\":\n",
    "    val=val1+val2\n",
    "    print(val)\n",
    "elif op==\"-\":\n",
    "    val=val1-val2\n",
    "    print(val)\n",
    "elif op==\"*\":\n",
    "    val=val1*val2\n",
    "    print(val)\n",
    "elif op==\"/\":\n",
    "    val=val1/val2\n",
    "    print(val)\n",
    "elif op==\"**\":\n",
    "    val=val1**val2\n",
    "    print(val)\n",
    "else:\n",
    "    print(\"Invalid operator\")"
   ]
  },
  {
   "cell_type": "code",
   "execution_count": 7,
   "metadata": {},
   "outputs": [
    {
     "name": "stdout",
     "output_type": "stream",
     "text": [
      "Numeric value found=6\n"
     ]
    }
   ],
   "source": [
    "#task 2\n",
    "list=[6,12,13,\"Bilal\",\"Valeed\",\"Karachi\"]\n",
    "for a in list:\n",
    "    if type(a)==int or type(a)==float:\n",
    "        print(\"Numeric value found=\"+str(a))\n",
    "        break\n",
    "    else:\n",
    "        print(\"Numeric value not found\")\n",
    "        break"
   ]
  },
  {
   "cell_type": "code",
   "execution_count": 11,
   "metadata": {},
   "outputs": [
    {
     "name": "stdout",
     "output_type": "stream",
     "text": [
      "{0: 'Bilal', 1: 'Karachi'}\n",
      "{0: 'Bilal', 1: 'Karachi', 2: 'Islamabad'}\n"
     ]
    }
   ],
   "source": [
    "#task 3\n",
    "d = {0:\"Bilal\", 1:\"Karachi\"}\n",
    "print(d)\n",
    "d[2]=\"Islamabad\"\n",
    "print(d)"
   ]
  },
  {
   "cell_type": "code",
   "execution_count": 12,
   "metadata": {},
   "outputs": [
    {
     "name": "stdout",
     "output_type": "stream",
     "text": [
      "The dictionary is={'a': 100, 'b': 200, 'c': 300}\n",
      "The sum of all the numeric values in dictionary is=600\n"
     ]
    }
   ],
   "source": [
    "#task 4\n",
    "dic={\"a\": 100, \n",
    "     \"b\":200,\n",
    "     \"c\":300}\n",
    "print(\"The dictionary is=\"+str(dic))\n",
    "print(\"The sum of all the numeric values in dictionary is=\"+str(sum(dic.values())))"
   ]
  },
  {
   "cell_type": "code",
   "execution_count": 4,
   "metadata": {},
   "outputs": [
    {
     "name": "stdout",
     "output_type": "stream",
     "text": [
      "[1, 2, 3, 4, 5, 9]\n"
     ]
    }
   ],
   "source": [
    "#task 5\n",
    "list1 = [1,2,1,3,1,4,1,4,2,5,9]\n",
    "unique = []\n",
    "for ele in list1:\n",
    "    if ele not in unique:\n",
    "        unique.append(ele)\n",
    "print(unique)"
   ]
  },
  {
   "cell_type": "code",
   "execution_count": 13,
   "metadata": {},
   "outputs": [
    {
     "name": "stdout",
     "output_type": "stream",
     "text": [
      "Enter the key to check it's already present in dictionary or not=5\n",
      "Key is present in the dictionary\n"
     ]
    }
   ],
   "source": [
    "#task 6\n",
    "d = {1: 10, 2: 20, 3: 30, 4: 40, 5: 50, 6: 60}\n",
    "a=int(input(\"Enter the key to check it's already present in dictionary or not=\"))\n",
    "def key(x):\n",
    "  if x in d:\n",
    "      print('Key is present in the dictionary')\n",
    "  else:\n",
    "      print('Key is not present in the dictionary')\n",
    "key(a)"
   ]
  }
 ],
 "metadata": {
  "kernelspec": {
   "display_name": "Python 3",
   "language": "python",
   "name": "python3"
  },
  "language_info": {
   "codemirror_mode": {
    "name": "ipython",
    "version": 3
   },
   "file_extension": ".py",
   "mimetype": "text/x-python",
   "name": "python",
   "nbconvert_exporter": "python",
   "pygments_lexer": "ipython3",
   "version": "3.7.3"
  }
 },
 "nbformat": 4,
 "nbformat_minor": 2
}
